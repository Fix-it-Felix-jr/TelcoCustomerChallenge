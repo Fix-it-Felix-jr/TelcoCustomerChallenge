{
 "cells": [
  {
   "cell_type": "code",
   "execution_count": 1,
   "id": "c753d3a6",
   "metadata": {},
   "outputs": [
    {
     "name": "stdout",
     "output_type": "stream",
     "text": [
      "Defaulting to user installation because normal site-packages is not writeable\n",
      "Requirement already satisfied: pandas in /home/g/.local/lib/python3.9/site-packages (1.2.4)\n",
      "Requirement already satisfied: python-dateutil>=2.7.3 in /usr/lib/python3.9/site-packages (from pandas) (2.8.1)\n",
      "Requirement already satisfied: numpy>=1.16.5 in /home/g/.local/lib/python3.9/site-packages (from pandas) (1.19.5)\n",
      "Requirement already satisfied: pytz>=2017.3 in /usr/lib/python3.9/site-packages (from pandas) (2021.1)\n",
      "Requirement already satisfied: six>=1.5 in /usr/lib/python3.9/site-packages (from python-dateutil>=2.7.3->pandas) (1.16.0)\n",
      "Defaulting to user installation because normal site-packages is not writeable\n",
      "Requirement already satisfied: scikit-learn in /home/g/.local/lib/python3.9/site-packages (0.24.2)\n",
      "Requirement already satisfied: threadpoolctl>=2.0.0 in /home/g/.local/lib/python3.9/site-packages (from scikit-learn) (2.1.0)\n",
      "Requirement already satisfied: scipy>=0.19.1 in /home/g/.local/lib/python3.9/site-packages (from scikit-learn) (1.6.3)\n",
      "Requirement already satisfied: joblib>=0.11 in /home/g/.local/lib/python3.9/site-packages (from scikit-learn) (1.0.1)\n",
      "Requirement already satisfied: numpy>=1.13.3 in /home/g/.local/lib/python3.9/site-packages (from scikit-learn) (1.19.5)\n",
      "Requirement already satisfied: numpy>=1.13.3 in /home/g/.local/lib/python3.9/site-packages (from scikit-learn) (1.19.5)\n",
      "Defaulting to user installation because normal site-packages is not writeable\n",
      "Requirement already satisfied: matplotlib in /home/g/.local/lib/python3.9/site-packages (3.4.2)\n",
      "Requirement already satisfied: python-dateutil>=2.7 in /usr/lib/python3.9/site-packages (from matplotlib) (2.8.1)\n",
      "Requirement already satisfied: cycler>=0.10 in /home/g/.local/lib/python3.9/site-packages (from matplotlib) (0.10.0)\n",
      "Requirement already satisfied: pyparsing>=2.2.1 in /usr/lib/python3.9/site-packages (from matplotlib) (2.4.7)\n",
      "Requirement already satisfied: numpy>=1.16 in /home/g/.local/lib/python3.9/site-packages (from matplotlib) (1.19.5)\n",
      "Requirement already satisfied: pillow>=6.2.0 in /usr/lib/python3.9/site-packages (from matplotlib) (8.2.0)\n",
      "Requirement already satisfied: kiwisolver>=1.0.1 in /home/g/.local/lib/python3.9/site-packages (from matplotlib) (1.3.1)\n",
      "Requirement already satisfied: six in /usr/lib/python3.9/site-packages (from cycler>=0.10->matplotlib) (1.16.0)\n",
      "Requirement already satisfied: six in /usr/lib/python3.9/site-packages (from cycler>=0.10->matplotlib) (1.16.0)\n",
      "Defaulting to user installation because normal site-packages is not writeable\n",
      "Requirement already satisfied: numpy in /home/g/.local/lib/python3.9/site-packages (1.19.5)\n"
     ]
    }
   ],
   "source": [
    "#istallazioni\n",
    "\n",
    "!pip install pandas\n",
    "!pip install -U scikit-learn\n",
    "!pip install matplotlib\n",
    "!pip install numpy"
   ]
  },
  {
   "cell_type": "code",
   "execution_count": 1,
   "id": "70fa6c69",
   "metadata": {},
   "outputs": [],
   "source": [
    "import pandas as pd"
   ]
  },
  {
   "cell_type": "code",
   "execution_count": 2,
   "id": "46d4b0ac",
   "metadata": {},
   "outputs": [],
   "source": [
    "#importo e visualizzo dataset\n",
    "\n",
    "dataset = pd.read_csv('train.csv')"
   ]
  },
  {
   "cell_type": "code",
   "execution_count": 3,
   "id": "20e7e1a1",
   "metadata": {},
   "outputs": [
    {
     "data": {
      "text/plain": [
       "Index(['Unnamed: 0', 'Churn', 'customerID', 'gender', 'SeniorCitizen',\n",
       "       'Partner', 'Dependents', 'tenure', 'PhoneService', 'MultipleLines',\n",
       "       'InternetService', 'OnlineSecurity', 'OnlineBackup', 'DeviceProtection',\n",
       "       'TechSupport', 'StreamingTV', 'StreamingMovies', 'Contract',\n",
       "       'PaperlessBilling', 'PaymentMethod', 'MonthlyCharges', 'TotalCharges'],\n",
       "      dtype='object')"
      ]
     },
     "execution_count": 3,
     "metadata": {},
     "output_type": "execute_result"
    }
   ],
   "source": [
    "dataset.keys()"
   ]
  },
  {
   "cell_type": "code",
   "execution_count": 4,
   "id": "a072d71f",
   "metadata": {},
   "outputs": [],
   "source": [
    "import matplotlib as plt"
   ]
  },
  {
   "cell_type": "code",
   "execution_count": 5,
   "id": "df93151e",
   "metadata": {},
   "outputs": [
    {
     "data": {
      "text/html": [
       "<div>\n",
       "<style scoped>\n",
       "    .dataframe tbody tr th:only-of-type {\n",
       "        vertical-align: middle;\n",
       "    }\n",
       "\n",
       "    .dataframe tbody tr th {\n",
       "        vertical-align: top;\n",
       "    }\n",
       "\n",
       "    .dataframe thead th {\n",
       "        text-align: right;\n",
       "    }\n",
       "</style>\n",
       "<table border=\"1\" class=\"dataframe\">\n",
       "  <thead>\n",
       "    <tr style=\"text-align: right;\">\n",
       "      <th></th>\n",
       "      <th>Churn</th>\n",
       "      <th>customerID</th>\n",
       "      <th>gender</th>\n",
       "      <th>SeniorCitizen</th>\n",
       "      <th>Partner</th>\n",
       "      <th>Dependents</th>\n",
       "      <th>tenure</th>\n",
       "      <th>PhoneService</th>\n",
       "      <th>MultipleLines</th>\n",
       "      <th>InternetService</th>\n",
       "      <th>...</th>\n",
       "      <th>OnlineBackup</th>\n",
       "      <th>DeviceProtection</th>\n",
       "      <th>TechSupport</th>\n",
       "      <th>StreamingTV</th>\n",
       "      <th>StreamingMovies</th>\n",
       "      <th>Contract</th>\n",
       "      <th>PaperlessBilling</th>\n",
       "      <th>PaymentMethod</th>\n",
       "      <th>MonthlyCharges</th>\n",
       "      <th>TotalCharges</th>\n",
       "    </tr>\n",
       "  </thead>\n",
       "  <tbody>\n",
       "    <tr>\n",
       "      <th>0</th>\n",
       "      <td>No</td>\n",
       "      <td>3798-EPWRR</td>\n",
       "      <td>Female</td>\n",
       "      <td>1</td>\n",
       "      <td>No</td>\n",
       "      <td>No</td>\n",
       "      <td>2</td>\n",
       "      <td>Yes</td>\n",
       "      <td>No</td>\n",
       "      <td>DSL</td>\n",
       "      <td>...</td>\n",
       "      <td>No</td>\n",
       "      <td>No</td>\n",
       "      <td>No</td>\n",
       "      <td>No</td>\n",
       "      <td>No</td>\n",
       "      <td>Month-to-month</td>\n",
       "      <td>No</td>\n",
       "      <td>Electronic check</td>\n",
       "      <td>43.95</td>\n",
       "      <td>85.1</td>\n",
       "    </tr>\n",
       "    <tr>\n",
       "      <th>1</th>\n",
       "      <td>No</td>\n",
       "      <td>0744-GKNGE</td>\n",
       "      <td>Female</td>\n",
       "      <td>0</td>\n",
       "      <td>Yes</td>\n",
       "      <td>Yes</td>\n",
       "      <td>64</td>\n",
       "      <td>Yes</td>\n",
       "      <td>Yes</td>\n",
       "      <td>Fiber optic</td>\n",
       "      <td>...</td>\n",
       "      <td>No</td>\n",
       "      <td>No</td>\n",
       "      <td>Yes</td>\n",
       "      <td>No</td>\n",
       "      <td>No</td>\n",
       "      <td>Month-to-month</td>\n",
       "      <td>Yes</td>\n",
       "      <td>Bank transfer (automatic)</td>\n",
       "      <td>86.80</td>\n",
       "      <td>5327.25</td>\n",
       "    </tr>\n",
       "    <tr>\n",
       "      <th>2</th>\n",
       "      <td>No</td>\n",
       "      <td>1755-RMCXH</td>\n",
       "      <td>Male</td>\n",
       "      <td>0</td>\n",
       "      <td>Yes</td>\n",
       "      <td>Yes</td>\n",
       "      <td>2</td>\n",
       "      <td>Yes</td>\n",
       "      <td>No</td>\n",
       "      <td>No</td>\n",
       "      <td>...</td>\n",
       "      <td>No internet service</td>\n",
       "      <td>No internet service</td>\n",
       "      <td>No internet service</td>\n",
       "      <td>No internet service</td>\n",
       "      <td>No internet service</td>\n",
       "      <td>Month-to-month</td>\n",
       "      <td>No</td>\n",
       "      <td>Mailed check</td>\n",
       "      <td>20.30</td>\n",
       "      <td>40.25</td>\n",
       "    </tr>\n",
       "    <tr>\n",
       "      <th>3</th>\n",
       "      <td>No</td>\n",
       "      <td>8200-LGKSR</td>\n",
       "      <td>Male</td>\n",
       "      <td>0</td>\n",
       "      <td>Yes</td>\n",
       "      <td>No</td>\n",
       "      <td>71</td>\n",
       "      <td>Yes</td>\n",
       "      <td>Yes</td>\n",
       "      <td>DSL</td>\n",
       "      <td>...</td>\n",
       "      <td>No</td>\n",
       "      <td>Yes</td>\n",
       "      <td>Yes</td>\n",
       "      <td>Yes</td>\n",
       "      <td>Yes</td>\n",
       "      <td>Two year</td>\n",
       "      <td>No</td>\n",
       "      <td>Electronic check</td>\n",
       "      <td>83.20</td>\n",
       "      <td>6126.1</td>\n",
       "    </tr>\n",
       "    <tr>\n",
       "      <th>4</th>\n",
       "      <td>No</td>\n",
       "      <td>4698-KVLLG</td>\n",
       "      <td>Female</td>\n",
       "      <td>1</td>\n",
       "      <td>No</td>\n",
       "      <td>No</td>\n",
       "      <td>51</td>\n",
       "      <td>Yes</td>\n",
       "      <td>No</td>\n",
       "      <td>No</td>\n",
       "      <td>...</td>\n",
       "      <td>No internet service</td>\n",
       "      <td>No internet service</td>\n",
       "      <td>No internet service</td>\n",
       "      <td>No internet service</td>\n",
       "      <td>No internet service</td>\n",
       "      <td>Two year</td>\n",
       "      <td>No</td>\n",
       "      <td>Credit card (automatic)</td>\n",
       "      <td>19.60</td>\n",
       "      <td>967.9</td>\n",
       "    </tr>\n",
       "    <tr>\n",
       "      <th>...</th>\n",
       "      <td>...</td>\n",
       "      <td>...</td>\n",
       "      <td>...</td>\n",
       "      <td>...</td>\n",
       "      <td>...</td>\n",
       "      <td>...</td>\n",
       "      <td>...</td>\n",
       "      <td>...</td>\n",
       "      <td>...</td>\n",
       "      <td>...</td>\n",
       "      <td>...</td>\n",
       "      <td>...</td>\n",
       "      <td>...</td>\n",
       "      <td>...</td>\n",
       "      <td>...</td>\n",
       "      <td>...</td>\n",
       "      <td>...</td>\n",
       "      <td>...</td>\n",
       "      <td>...</td>\n",
       "      <td>...</td>\n",
       "      <td>...</td>\n",
       "    </tr>\n",
       "    <tr>\n",
       "      <th>4502</th>\n",
       "      <td>No</td>\n",
       "      <td>9798-OPFEM</td>\n",
       "      <td>Female</td>\n",
       "      <td>0</td>\n",
       "      <td>No</td>\n",
       "      <td>No</td>\n",
       "      <td>46</td>\n",
       "      <td>Yes</td>\n",
       "      <td>No</td>\n",
       "      <td>No</td>\n",
       "      <td>...</td>\n",
       "      <td>No internet service</td>\n",
       "      <td>No internet service</td>\n",
       "      <td>No internet service</td>\n",
       "      <td>No internet service</td>\n",
       "      <td>No internet service</td>\n",
       "      <td>Two year</td>\n",
       "      <td>Yes</td>\n",
       "      <td>Electronic check</td>\n",
       "      <td>21.10</td>\n",
       "      <td>937.1</td>\n",
       "    </tr>\n",
       "    <tr>\n",
       "      <th>4503</th>\n",
       "      <td>No</td>\n",
       "      <td>5935-FCCNB</td>\n",
       "      <td>Female</td>\n",
       "      <td>1</td>\n",
       "      <td>No</td>\n",
       "      <td>No</td>\n",
       "      <td>17</td>\n",
       "      <td>Yes</td>\n",
       "      <td>Yes</td>\n",
       "      <td>Fiber optic</td>\n",
       "      <td>...</td>\n",
       "      <td>No</td>\n",
       "      <td>No</td>\n",
       "      <td>No</td>\n",
       "      <td>Yes</td>\n",
       "      <td>Yes</td>\n",
       "      <td>Month-to-month</td>\n",
       "      <td>Yes</td>\n",
       "      <td>Electronic check</td>\n",
       "      <td>94.20</td>\n",
       "      <td>1608.15</td>\n",
       "    </tr>\n",
       "    <tr>\n",
       "      <th>4504</th>\n",
       "      <td>No</td>\n",
       "      <td>4896-CPRPF</td>\n",
       "      <td>Male</td>\n",
       "      <td>0</td>\n",
       "      <td>Yes</td>\n",
       "      <td>Yes</td>\n",
       "      <td>35</td>\n",
       "      <td>Yes</td>\n",
       "      <td>Yes</td>\n",
       "      <td>No</td>\n",
       "      <td>...</td>\n",
       "      <td>No internet service</td>\n",
       "      <td>No internet service</td>\n",
       "      <td>No internet service</td>\n",
       "      <td>No internet service</td>\n",
       "      <td>No internet service</td>\n",
       "      <td>Two year</td>\n",
       "      <td>No</td>\n",
       "      <td>Bank transfer (automatic)</td>\n",
       "      <td>25.45</td>\n",
       "      <td>809.25</td>\n",
       "    </tr>\n",
       "    <tr>\n",
       "      <th>4505</th>\n",
       "      <td>No</td>\n",
       "      <td>5092-STPKP</td>\n",
       "      <td>Female</td>\n",
       "      <td>0</td>\n",
       "      <td>No</td>\n",
       "      <td>No</td>\n",
       "      <td>24</td>\n",
       "      <td>Yes</td>\n",
       "      <td>No</td>\n",
       "      <td>DSL</td>\n",
       "      <td>...</td>\n",
       "      <td>No</td>\n",
       "      <td>No</td>\n",
       "      <td>Yes</td>\n",
       "      <td>No</td>\n",
       "      <td>No</td>\n",
       "      <td>Month-to-month</td>\n",
       "      <td>No</td>\n",
       "      <td>Credit card (automatic)</td>\n",
       "      <td>56.35</td>\n",
       "      <td>1381.2</td>\n",
       "    </tr>\n",
       "    <tr>\n",
       "      <th>4506</th>\n",
       "      <td>No</td>\n",
       "      <td>8853-TZDGH</td>\n",
       "      <td>Female</td>\n",
       "      <td>0</td>\n",
       "      <td>No</td>\n",
       "      <td>No</td>\n",
       "      <td>72</td>\n",
       "      <td>Yes</td>\n",
       "      <td>Yes</td>\n",
       "      <td>Fiber optic</td>\n",
       "      <td>...</td>\n",
       "      <td>Yes</td>\n",
       "      <td>Yes</td>\n",
       "      <td>Yes</td>\n",
       "      <td>Yes</td>\n",
       "      <td>Yes</td>\n",
       "      <td>Two year</td>\n",
       "      <td>Yes</td>\n",
       "      <td>Bank transfer (automatic)</td>\n",
       "      <td>111.60</td>\n",
       "      <td>8012.75</td>\n",
       "    </tr>\n",
       "  </tbody>\n",
       "</table>\n",
       "<p>4507 rows × 21 columns</p>\n",
       "</div>"
      ],
      "text/plain": [
       "     Churn  customerID  gender  SeniorCitizen Partner Dependents  tenure  \\\n",
       "0       No  3798-EPWRR  Female              1      No         No       2   \n",
       "1       No  0744-GKNGE  Female              0     Yes        Yes      64   \n",
       "2       No  1755-RMCXH    Male              0     Yes        Yes       2   \n",
       "3       No  8200-LGKSR    Male              0     Yes         No      71   \n",
       "4       No  4698-KVLLG  Female              1      No         No      51   \n",
       "...    ...         ...     ...            ...     ...        ...     ...   \n",
       "4502    No  9798-OPFEM  Female              0      No         No      46   \n",
       "4503    No  5935-FCCNB  Female              1      No         No      17   \n",
       "4504    No  4896-CPRPF    Male              0     Yes        Yes      35   \n",
       "4505    No  5092-STPKP  Female              0      No         No      24   \n",
       "4506    No  8853-TZDGH  Female              0      No         No      72   \n",
       "\n",
       "     PhoneService MultipleLines InternetService  ...         OnlineBackup  \\\n",
       "0             Yes            No             DSL  ...                   No   \n",
       "1             Yes           Yes     Fiber optic  ...                   No   \n",
       "2             Yes            No              No  ...  No internet service   \n",
       "3             Yes           Yes             DSL  ...                   No   \n",
       "4             Yes            No              No  ...  No internet service   \n",
       "...           ...           ...             ...  ...                  ...   \n",
       "4502          Yes            No              No  ...  No internet service   \n",
       "4503          Yes           Yes     Fiber optic  ...                   No   \n",
       "4504          Yes           Yes              No  ...  No internet service   \n",
       "4505          Yes            No             DSL  ...                   No   \n",
       "4506          Yes           Yes     Fiber optic  ...                  Yes   \n",
       "\n",
       "         DeviceProtection          TechSupport          StreamingTV  \\\n",
       "0                      No                   No                   No   \n",
       "1                      No                  Yes                   No   \n",
       "2     No internet service  No internet service  No internet service   \n",
       "3                     Yes                  Yes                  Yes   \n",
       "4     No internet service  No internet service  No internet service   \n",
       "...                   ...                  ...                  ...   \n",
       "4502  No internet service  No internet service  No internet service   \n",
       "4503                   No                   No                  Yes   \n",
       "4504  No internet service  No internet service  No internet service   \n",
       "4505                   No                  Yes                   No   \n",
       "4506                  Yes                  Yes                  Yes   \n",
       "\n",
       "          StreamingMovies        Contract PaperlessBilling  \\\n",
       "0                      No  Month-to-month               No   \n",
       "1                      No  Month-to-month              Yes   \n",
       "2     No internet service  Month-to-month               No   \n",
       "3                     Yes        Two year               No   \n",
       "4     No internet service        Two year               No   \n",
       "...                   ...             ...              ...   \n",
       "4502  No internet service        Two year              Yes   \n",
       "4503                  Yes  Month-to-month              Yes   \n",
       "4504  No internet service        Two year               No   \n",
       "4505                   No  Month-to-month               No   \n",
       "4506                  Yes        Two year              Yes   \n",
       "\n",
       "                  PaymentMethod MonthlyCharges  TotalCharges  \n",
       "0              Electronic check          43.95          85.1  \n",
       "1     Bank transfer (automatic)          86.80       5327.25  \n",
       "2                  Mailed check          20.30         40.25  \n",
       "3              Electronic check          83.20        6126.1  \n",
       "4       Credit card (automatic)          19.60         967.9  \n",
       "...                         ...            ...           ...  \n",
       "4502           Electronic check          21.10         937.1  \n",
       "4503           Electronic check          94.20       1608.15  \n",
       "4504  Bank transfer (automatic)          25.45        809.25  \n",
       "4505    Credit card (automatic)          56.35        1381.2  \n",
       "4506  Bank transfer (automatic)         111.60       8012.75  \n",
       "\n",
       "[4507 rows x 21 columns]"
      ]
     },
     "execution_count": 5,
     "metadata": {},
     "output_type": "execute_result"
    }
   ],
   "source": [
    "dataset.pop('Unnamed: 0')\n",
    "dataset"
   ]
  },
  {
   "cell_type": "code",
   "execution_count": null,
   "id": "7bcec524",
   "metadata": {},
   "outputs": [],
   "source": []
  },
  {
   "cell_type": "code",
   "execution_count": null,
   "id": "01447f23",
   "metadata": {
    "scrolled": true
   },
   "outputs": [],
   "source": []
  },
  {
   "cell_type": "code",
   "execution_count": null,
   "id": "c1552dff",
   "metadata": {},
   "outputs": [],
   "source": []
  },
  {
   "cell_type": "code",
   "execution_count": 6,
   "id": "47385ba9",
   "metadata": {},
   "outputs": [],
   "source": [
    "#Analizzo individualmente il livello di correlazione che ogni feature ha con il target"
   ]
  },
  {
   "cell_type": "code",
   "execution_count": null,
   "id": "9e346dae",
   "metadata": {},
   "outputs": [],
   "source": []
  },
  {
   "cell_type": "code",
   "execution_count": 7,
   "id": "0a37aae6",
   "metadata": {},
   "outputs": [],
   "source": [
    "import matplotlib.pyplot as plt\n",
    "import numpy as np"
   ]
  },
  {
   "cell_type": "code",
   "execution_count": 8,
   "id": "9594e09e",
   "metadata": {
    "scrolled": false
   },
   "outputs": [
    {
     "data": {
      "text/plain": [
       "Text(0.5, 1.0, 'Numero istanze nel caso in cui Churn è No')"
      ]
     },
     "execution_count": 8,
     "metadata": {},
     "output_type": "execute_result"
    },
    {
     "data": {
      "image/png": "[encoded data removed]",
      "text/plain": [
       "<Figure size 432x288 with 1 Axes>"
      ]
     },
     "metadata": {
      "needs_background": "light"
     },
     "output_type": "display_data"
    },
    {
     "data": {
      "image/png": "[encoded data removed]",
      "text/plain": [
       "<Figure size 432x288 with 1 Axes>"
      ]
     },
     "metadata": {
      "needs_background": "light"
     },
     "output_type": "display_data"
    }
   ],
   "source": [
    "feature='gender'\n",
    "\n",
    "f1=plt.figure(1)\n",
    "yes=dataset[dataset.Churn=='Yes']\n",
    "plt.hist(np.asanyarray(yes[feature]));\n",
    "plt.title('Numero istanze nel caso in cui Churn è Si')\n",
    "#f1.show()\n",
    "\n",
    "f2=plt.figure(2)\n",
    "no=dataset[dataset.Churn=='No']\n",
    "plt.hist(np.asanyarray(no[feature]));\n",
    "plt.title('Numero istanze nel caso in cui Churn è No')\n",
    "#f2.show()\n"
   ]
  },
  {
   "cell_type": "code",
   "execution_count": 9,
   "id": "05022848",
   "metadata": {},
   "outputs": [
    {
     "data": {
      "text/plain": [
       "Text(0.5, 1.0, 'Numero istanze nel caso in cui Churn è No')"
      ]
     },
     "execution_count": 9,
     "metadata": {},
     "output_type": "execute_result"
    },
    {
     "data": {
      "image/png": "[encoded data removed]",
      "text/plain": [
       "<Figure size 432x288 with 1 Axes>"
      ]
     },
     "metadata": {
      "needs_background": "light"
     },
     "output_type": "display_data"
    },
    {
     "data": {
      "image/png": "[encoded data removed]",
      "text/plain": [
       "<Figure size 432x288 with 1 Axes>"
      ]
     },
     "metadata": {
      "needs_background": "light"
     },
     "output_type": "display_data"
    }
   ],
   "source": [
    "feature='SeniorCitizen'\n",
    "\n",
    "f1=plt.figure(1)\n",
    "yes=dataset[dataset.Churn=='Yes']\n",
    "plt.hist(np.asanyarray(yes[feature]));\n",
    "plt.title('Numero istanze nel caso in cui Churn è Si')\n",
    "#f1.show()\n",
    "\n",
    "f2=plt.figure(2)\n",
    "no=dataset[dataset.Churn=='No']\n",
    "plt.hist(np.asanyarray(no[feature]));\n",
    "plt.title('Numero istanze nel caso in cui Churn è No')\n",
    "#f2.show()"
   ]
  },
  {
   "cell_type": "code",
   "execution_count": 10,
   "id": "61704dbd",
   "metadata": {},
   "outputs": [
    {
     "data": {
      "text/plain": [
       "Text(0.5, 1.0, 'Numero istanze nel caso in cui Churn è No')"
      ]
     },
     "execution_count": 10,
     "metadata": {},
     "output_type": "execute_result"
    },
    {
     "data": {
      "image/png": "[encoded data removed]",
      "text/plain": [
       "<Figure size 432x288 with 1 Axes>"
      ]
     },
     "metadata": {
      "needs_background": "light"
     },
     "output_type": "display_data"
    },
    {
     "data": {
      "image/png": "[encoded data removed]",
      "text/plain": [
       "<Figure size 432x288 with 1 Axes>"
      ]
     },
     "metadata": {
      "needs_background": "light"
     },
     "output_type": "display_data"
    }
   ],
   "source": [
    "feature='Partner'\n",
    "\n",
    "f1=plt.figure(1)\n",
    "yes=dataset[dataset.Churn=='Yes']\n",
    "plt.hist(np.asanyarray(yes[feature]));\n",
    "plt.title('Numero istanze nel caso in cui Churn è Si')\n",
    "#f1.show()\n",
    "\n",
    "f2=plt.figure(2)\n",
    "no=dataset[dataset.Churn=='No']\n",
    "plt.hist(np.asanyarray(no[feature]));\n",
    "plt.title('Numero istanze nel caso in cui Churn è No')\n",
    "#f2.show()"
   ]
  },
  {
   "cell_type": "code",
   "execution_count": 11,
   "id": "14256995",
   "metadata": {},
   "outputs": [
    {
     "data": {
      "text/plain": [
       "Text(0.5, 1.0, 'Numero istanze nel caso in cui Churn è No')"
      ]
     },
     "execution_count": 11,
     "metadata": {},
     "output_type": "execute_result"
    },
    {
     "data": {
      "image/png": "[encoded data removed]",
      "text/plain": [
       "<Figure size 432x288 with 1 Axes>"
      ]
     },
     "metadata": {
      "needs_background": "light"
     },
     "output_type": "display_data"
    },
    {
     "data": {
      "image/png": "[encoded data removed]",
      "text/plain": [
       "<Figure size 432x288 with 1 Axes>"
      ]
     },
     "metadata": {
      "needs_background": "light"
     },
     "output_type": "display_data"
    }
   ],
   "source": [
    "feature='Dependents'\n",
    "\n",
    "f1=plt.figure(1)\n",
    "yes=dataset[dataset.Churn=='Yes']\n",
    "plt.hist(np.asanyarray(yes[feature]));\n",
    "plt.title('Numero istanze nel caso in cui Churn è Si')\n",
    "#f1.show()\n",
    "\n",
    "f2=plt.figure(2)\n",
    "no=dataset[dataset.Churn=='No']\n",
    "plt.hist(np.asanyarray(no[feature]));\n",
    "plt.title('Numero istanze nel caso in cui Churn è No')\n",
    "#f2.show()"
   ]
  },
  {
   "cell_type": "code",
   "execution_count": 12,
   "id": "68a15ddf",
   "metadata": {},
   "outputs": [
    {
     "data": {
      "text/plain": [
       "Text(0.5, 1.0, 'Numero istanze nel caso in cui Churn è No')"
      ]
     },
     "execution_count": 12,
     "metadata": {},
     "output_type": "execute_result"
    },
    {
     "data": {
      "image/png": "[encoded data removed]",
      "text/plain": [
       "<Figure size 432x288 with 1 Axes>"
      ]
     },
     "metadata": {
      "needs_background": "light"
     },
     "output_type": "display_data"
    },
    {
     "data": {
      "image/png": "[encoded data removed]",
      "text/plain": [
       "<Figure size 432x288 with 1 Axes>"
      ]
     },
     "metadata": {
      "needs_background": "light"
     },
     "output_type": "display_data"
    }
   ],
   "source": [
    "feature='tenure'\n",
    "\n",
    "f1=plt.figure(1)\n",
    "yes=dataset[dataset.Churn=='Yes']\n",
    "plt.hist(np.asanyarray(yes[feature]));\n",
    "plt.title('Numero istanze nel caso in cui Churn è Si')\n",
    "#f1.show()\n",
    "\n",
    "f2=plt.figure(2)\n",
    "no=dataset[dataset.Churn=='No']\n",
    "plt.hist(np.asanyarray(no[feature]));\n",
    "plt.title('Numero istanze nel caso in cui Churn è No')\n",
    "#f2.show()"
   ]
  },
  {
   "cell_type": "code",
   "execution_count": 13,
   "id": "1d800beb",
   "metadata": {},
   "outputs": [
    {
     "data": {
      "text/plain": [
       "Text(0.5, 1.0, 'Numero istanze nel caso in cui Churn è No')"
      ]
     },
     "execution_count": 13,
     "metadata": {},
     "output_type": "execute_result"
    },
    {
     "data": {
      "image/png": "[encoded data removed]",
      "text/plain": [
       "<Figure size 432x288 with 1 Axes>"
      ]
     },
     "metadata": {
      "needs_background": "light"
     },
     "output_type": "display_data"
    },
    {
     "data": {
      "image/png": "[encoded data removed]",
      "text/plain": [
       "<Figure size 432x288 with 1 Axes>"
      ]
     },
     "metadata": {
      "needs_background": "light"
     },
     "output_type": "display_data"
    }
   ],
   "source": [
    "feature='PhoneService'\n",
    "\n",
    "f1=plt.figure(1)\n",
    "yes=dataset[dataset.Churn=='Yes']\n",
    "plt.hist(np.asanyarray(yes[feature]));\n",
    "plt.title('Numero istanze nel caso in cui Churn è Si')\n",
    "#f1.show()\n",
    "\n",
    "f2=plt.figure(2)\n",
    "no=dataset[dataset.Churn=='No']\n",
    "plt.hist(np.asanyarray(no[feature]));\n",
    "plt.title('Numero istanze nel caso in cui Churn è No')\n",
    "#f2.show()"
   ]
  },
  {
   "cell_type": "code",
   "execution_count": 14,
   "id": "333588e3",
   "metadata": {},
   "outputs": [
    {
     "data": {
      "text/plain": [
       "Text(0.5, 1.0, 'Numero istanze nel caso in cui Churn è No')"
      ]
     },
     "execution_count": 14,
     "metadata": {},
     "output_type": "execute_result"
    },
    {
     "data": {
      "image/png": "[encoded data removed]",
      "text/plain": [
       "<Figure size 432x288 with 1 Axes>"
      ]
     },
     "metadata": {
      "needs_background": "light"
     },
     "output_type": "display_data"
    },
    {
     "data": {
      "image/png": "[encoded data removed]",
      "text/plain": [
       "<Figure size 432x288 with 1 Axes>"
      ]
     },
     "metadata": {
      "needs_background": "light"
     },
     "output_type": "display_data"
    }
   ],
   "source": [
    "feature='MultipleLines'\n",
    "\n",
    "f1=plt.figure(1)\n",
    "yes=dataset[dataset.Churn=='Yes']\n",
    "plt.hist(np.asanyarray(yes[feature]));\n",
    "plt.title('Numero istanze nel caso in cui Churn è Si')\n",
    "#f1.show()\n",
    "\n",
    "f2=plt.figure(2)\n",
    "no=dataset[dataset.Churn=='No']\n",
    "plt.hist(np.asanyarray(no[feature]));\n",
    "plt.title('Numero istanze nel caso in cui Churn è No')\n",
    "#f2.show()"
   ]
  },
  {
   "cell_type": "code",
   "execution_count": 15,
   "id": "e707d900",
   "metadata": {},
   "outputs": [
    {
     "data": {
      "text/plain": [
       "Text(0.5, 1.0, 'Numero istanze nel caso in cui Churn è No')"
      ]
     },
     "execution_count": 15,
     "metadata": {},
     "output_type": "execute_result"
    },
    {
     "data": {
      "image/png": "[encoded data removed]",
      "text/plain": [
       "<Figure size 432x288 with 1 Axes>"
      ]
     },
     "metadata": {
      "needs_background": "light"
     },
     "output_type": "display_data"
    },
    {
     "data": {
      "image/png": "[encoded data removed]",
      "text/plain": [
       "<Figure size 432x288 with 1 Axes>"
      ]
     },
     "metadata": {
      "needs_background": "light"
     },
     "output_type": "display_data"
    }
   ],
   "source": [
    "feature='InternetService'\n",
    "\n",
    "f1=plt.figure(1)\n",
    "yes=dataset[dataset.Churn=='Yes']\n",
    "plt.hist(np.asanyarray(yes[feature]));\n",
    "plt.title('Numero istanze nel caso in cui Churn è Si')\n",
    "#f1.show()\n",
    "\n",
    "f2=plt.figure(2)\n",
    "no=dataset[dataset.Churn=='No']\n",
    "plt.hist(np.asanyarray(no[feature]));\n",
    "plt.title('Numero istanze nel caso in cui Churn è No')\n",
    "#f2.show()"
   ]
  },
  {
   "cell_type": "code",
   "execution_count": 16,
   "id": "e3a8eedb",
   "metadata": {},
   "outputs": [
    {
     "data": {
      "text/plain": [
       "Text(0.5, 1.0, 'Numero istanze nel caso in cui Churn è No')"
      ]
     },
     "execution_count": 16,
     "metadata": {},
     "output_type": "execute_result"
    },
    {
     "data": {
      "image/png": "[encoded data removed]",
      "text/plain": [
       "<Figure size 432x288 with 1 Axes>"
      ]
     },
     "metadata": {
      "needs_background": "light"
     },
     "output_type": "display_data"
    },
    {
     "data": {
      "image/png": "[encoded data removed]",
      "text/plain": [
       "<Figure size 432x288 with 1 Axes>"
      ]
     },
     "metadata": {
      "needs_background": "light"
     },
     "output_type": "display_data"
    }
   ],
   "source": [
    "feature='OnlineSecurity'\n",
    "\n",
    "f1=plt.figure(1)\n",
    "yes=dataset[dataset.Churn=='Yes']\n",
    "plt.hist(np.asanyarray(yes[feature]));\n",
    "plt.title('Numero istanze nel caso in cui Churn è Si')\n",
    "#f1.show()\n",
    "\n",
    "f2=plt.figure(2)\n",
    "no=dataset[dataset.Churn=='No']\n",
    "plt.hist(np.asanyarray(no[feature]));\n",
    "plt.title('Numero istanze nel caso in cui Churn è No')\n",
    "#f2.show()"
   ]
  },
  {
   "cell_type": "code",
   "execution_count": 17,
   "id": "f6d104b1",
   "metadata": {},
   "outputs": [
    {
     "data": {
      "text/plain": [
       "Text(0.5, 1.0, 'Numero istanze nel caso in cui Churn è No')"
      ]
     },
     "execution_count": 17,
     "metadata": {},
     "output_type": "execute_result"
    },
    {
     "data": {
      "image/png": "[encoded data removed]",
      "text/plain": [
       "<Figure size 432x288 with 1 Axes>"
      ]
     },
     "metadata": {
      "needs_background": "light"
     },
     "output_type": "display_data"
    },
    {
     "data": {
      "image/png": "[encoded data removed]",
      "text/plain": [
       "<Figure size 432x288 with 1 Axes>"
      ]
     },
     "metadata": {
      "needs_background": "light"
     },
     "output_type": "display_data"
    }
   ],
   "source": [
    "feature='OnlineBackup'\n",
    "\n",
    "f1=plt.figure(1)\n",
    "yes=dataset[dataset.Churn=='Yes']\n",
    "plt.hist(np.asanyarray(yes[feature]));\n",
    "plt.title('Numero istanze nel caso in cui Churn è Si')\n",
    "#f1.show()\n",
    "\n",
    "f2=plt.figure(2)\n",
    "no=dataset[dataset.Churn=='No']\n",
    "plt.hist(np.asanyarray(no[feature]));\n",
    "plt.title('Numero istanze nel caso in cui Churn è No')\n",
    "#f2.show()"
   ]
  },
  {
   "cell_type": "code",
   "execution_count": 18,
   "id": "61cebad7",
   "metadata": {},
   "outputs": [
    {
     "data": {
      "text/plain": [
       "Text(0.5, 1.0, 'Numero istanze nel caso in cui Churn è No')"
      ]
     },
     "execution_count": 18,
     "metadata": {},
     "output_type": "execute_result"
    },
    {
     "data": {
      "image/png": "[encoded data removed]",
      "text/plain": [
       "<Figure size 432x288 with 1 Axes>"
      ]
     },
     "metadata": {
      "needs_background": "light"
     },
     "output_type": "display_data"
    },
    {
     "data": {
      "image/png": "[encoded data removed]",
      "text/plain": [
       "<Figure size 432x288 with 1 Axes>"
      ]
     },
     "metadata": {
      "needs_background": "light"
     },
     "output_type": "display_data"
    }
   ],
   "source": [
    "feature='DeviceProtection'\n",
    "\n",
    "f1=plt.figure(1)\n",
    "yes=dataset[dataset.Churn=='Yes']\n",
    "plt.hist(np.asanyarray(yes[feature]));\n",
    "plt.title('Numero istanze nel caso in cui Churn è Si')\n",
    "#f1.show()\n",
    "\n",
    "f2=plt.figure(2)\n",
    "no=dataset[dataset.Churn=='No']\n",
    "plt.hist(np.asanyarray(no[feature]));\n",
    "plt.title('Numero istanze nel caso in cui Churn è No')\n",
    "#f2.show()"
   ]
  },
  {
   "cell_type": "code",
   "execution_count": 19,
   "id": "d72877ba",
   "metadata": {},
   "outputs": [
    {
     "data": {
      "text/plain": [
       "Text(0.5, 1.0, 'Numero istanze nel caso in cui Churn è No')"
      ]
     },
     "execution_count": 19,
     "metadata": {},
     "output_type": "execute_result"
    },
    {
     "data": {
      "image/png": "[encoded data removed]",
      "text/plain": [
       "<Figure size 432x288 with 1 Axes>"
      ]
     },
     "metadata": {
      "needs_background": "light"
     },
     "output_type": "display_data"
    },
    {
     "data": {
      "image/png": "[encoded data removed]",
      "text/plain": [
       "<Figure size 432x288 with 1 Axes>"
      ]
     },
     "metadata": {
      "needs_background": "light"
     },
     "output_type": "display_data"
    }
   ],
   "source": [
    "feature='TechSupport'\n",
    "\n",
    "f1=plt.figure(1)\n",
    "yes=dataset[dataset.Churn=='Yes']\n",
    "plt.hist(np.asanyarray(yes[feature]));\n",
    "plt.title('Numero istanze nel caso in cui Churn è Si')\n",
    "#f1.show()\n",
    "\n",
    "f2=plt.figure(2)\n",
    "no=dataset[dataset.Churn=='No']\n",
    "plt.hist(np.asanyarray(no[feature]));\n",
    "plt.title('Numero istanze nel caso in cui Churn è No')\n",
    "#f2.show()"
   ]
  },
  {
   "cell_type": "code",
   "execution_count": 20,
   "id": "756a69e8",
   "metadata": {},
   "outputs": [
    {
     "data": {
      "text/plain": [
       "Text(0.5, 1.0, 'Numero istanze nel caso in cui Churn è No')"
      ]
     },
     "execution_count": 20,
     "metadata": {},
     "output_type": "execute_result"
    },
    {
     "data": {
      "image/png": "[encoded data removed]",
      "text/plain": [
       "<Figure size 432x288 with 1 Axes>"
      ]
     },
     "metadata": {
      "needs_background": "light"
     },
     "output_type": "display_data"
    },
    {
     "data": {
      "image/png": "[encoded data removed]",
      "text/plain": [
       "<Figure size 432x288 with 1 Axes>"
      ]
     },
     "metadata": {
      "needs_background": "light"
     },
     "output_type": "display_data"
    }
   ],
   "source": [
    "feature='StreamingTV'\n",
    "\n",
    "f1=plt.figure(1)\n",
    "yes=dataset[dataset.Churn=='Yes']\n",
    "plt.hist(np.asanyarray(yes[feature]));\n",
    "plt.title('Numero istanze nel caso in cui Churn è Si')\n",
    "#f1.show()\n",
    "\n",
    "f2=plt.figure(2)\n",
    "no=dataset[dataset.Churn=='No']\n",
    "plt.hist(np.asanyarray(no[feature]));\n",
    "plt.title('Numero istanze nel caso in cui Churn è No')\n",
    "#f2.show()"
   ]
  },
  {
   "cell_type": "code",
   "execution_count": 21,
   "id": "d1baa72b",
   "metadata": {},
   "outputs": [
    {
     "data": {
      "text/plain": [
       "Text(0.5, 1.0, 'Numero istanze nel caso in cui Churn è No')"
      ]
     },
     "execution_count": 21,
     "metadata": {},
     "output_type": "execute_result"
    },
    {
     "data": {
      "image/png": "[encoded data removed]",
      "text/plain": [
       "<Figure size 432x288 with 1 Axes>"
      ]
     },
     "metadata": {
      "needs_background": "light"
     },
     "output_type": "display_data"
    },
    {
     "data": {
      "image/png": "[encoded data removed]",
      "text/plain": [
       "<Figure size 432x288 with 1 Axes>"
      ]
     },
     "metadata": {
      "needs_background": "light"
     },
     "output_type": "display_data"
    }
   ],
   "source": [
    "feature='StreamingMovies'\n",
    "\n",
    "f1=plt.figure(1)\n",
    "yes=dataset[dataset.Churn=='Yes']\n",
    "plt.hist(np.asanyarray(yes[feature]));\n",
    "plt.title('Numero istanze nel caso in cui Churn è Si')\n",
    "#f1.show()\n",
    "\n",
    "f2=plt.figure(2)\n",
    "no=dataset[dataset.Churn=='No']\n",
    "plt.hist(np.asanyarray(no[feature]));\n",
    "plt.title('Numero istanze nel caso in cui Churn è No')\n",
    "#f2.show()"
   ]
  },
  {
   "cell_type": "code",
   "execution_count": 22,
   "id": "3803bd20",
   "metadata": {},
   "outputs": [
    {
     "data": {
      "text/plain": [
       "Text(0.5, 1.0, 'Numero istanze nel caso in cui Churn è No')"
      ]
     },
     "execution_count": 22,
     "metadata": {},
     "output_type": "execute_result"
    },
    {
     "data": {
      "image/png": "[encoded data removed]",
      "text/plain": [
       "<Figure size 432x288 with 1 Axes>"
      ]
     },
     "metadata": {
      "needs_background": "light"
     },
     "output_type": "display_data"
    },
    {
     "data": {
      "image/png": "[encoded data removed]",
      "text/plain": [
       "<Figure size 432x288 with 1 Axes>"
      ]
     },
     "metadata": {
      "needs_background": "light"
     },
     "output_type": "display_data"
    }
   ],
   "source": [
    "feature='Contract'\n",
    "\n",
    "f1=plt.figure(1)\n",
    "yes=dataset[dataset.Churn=='Yes']\n",
    "plt.hist(np.asanyarray(yes[feature]));\n",
    "plt.title('Numero istanze nel caso in cui Churn è Si')\n",
    "#f1.show()\n",
    "\n",
    "f2=plt.figure(2)\n",
    "no=dataset[dataset.Churn=='No']\n",
    "plt.hist(np.asanyarray(no[feature]));\n",
    "plt.title('Numero istanze nel caso in cui Churn è No')\n",
    "#f2.show()"
   ]
  },
  {
   "cell_type": "code",
   "execution_count": 23,
   "id": "e9bf8c9a",
   "metadata": {},
   "outputs": [
    {
     "data": {
      "text/plain": [
       "Text(0.5, 1.0, 'Numero istanze nel caso in cui Churn è No')"
      ]
     },
     "execution_count": 23,
     "metadata": {},
     "output_type": "execute_result"
    },
    {
     "data": {
      "image/png": "[encoded data removed]",
      "text/plain": [
       "<Figure size 432x288 with 1 Axes>"
      ]
     },
     "metadata": {
      "needs_background": "light"
     },
     "output_type": "display_data"
    },
    {
     "data": {
      "image/png": "[encoded data removed]",
      "text/plain": [
       "<Figure size 432x288 with 1 Axes>"
      ]
     },
     "metadata": {
      "needs_background": "light"
     },
     "output_type": "display_data"
    }
   ],
   "source": [
    "feature='PaperlessBilling'\n",
    "\n",
    "f1=plt.figure(1)\n",
    "yes=dataset[dataset.Churn=='Yes']\n",
    "plt.hist(np.asanyarray(yes[feature]));\n",
    "plt.title('Numero istanze nel caso in cui Churn è Si')\n",
    "#f1.show()\n",
    "\n",
    "f2=plt.figure(2)\n",
    "no=dataset[dataset.Churn=='No']\n",
    "plt.hist(np.asanyarray(no[feature]));\n",
    "plt.title('Numero istanze nel caso in cui Churn è No')\n",
    "#f2.show()"
   ]
  },
  {
   "cell_type": "code",
   "execution_count": 24,
   "id": "5cab04eb",
   "metadata": {},
   "outputs": [
    {
     "data": {
      "text/plain": [
       "Text(0.5, 1.0, 'Numero istanze nel caso in cui Churn è No')"
      ]
     },
     "execution_count": 24,
     "metadata": {},
     "output_type": "execute_result"
    },
    {
     "data": {
      "image/png": "[encoded data removed]",
      "text/plain": [
       "<Figure size 432x288 with 1 Axes>"
      ]
     },
     "metadata": {
      "needs_background": "light"
     },
     "output_type": "display_data"
    },
    {
     "data": {
      "image/png": "[encoded data removed]",
      "text/plain": [
       "<Figure size 432x288 with 1 Axes>"
      ]
     },
     "metadata": {
      "needs_background": "light"
     },
     "output_type": "display_data"
    }
   ],
   "source": [
    "feature='PaymentMethod'\n",
    "\n",
    "f1=plt.figure(1)\n",
    "yes=dataset[dataset.Churn=='Yes']\n",
    "plt.hist(np.asanyarray(yes[feature]));\n",
    "plt.title('Numero istanze nel caso in cui Churn è Si')\n",
    "#f1.show()\n",
    "\n",
    "f2=plt.figure(2)\n",
    "no=dataset[dataset.Churn=='No']\n",
    "plt.hist(np.asanyarray(no[feature]));\n",
    "plt.title('Numero istanze nel caso in cui Churn è No')\n",
    "#f2.show()"
   ]
  },
  {
   "cell_type": "code",
   "execution_count": 25,
   "id": "952ae671",
   "metadata": {},
   "outputs": [
    {
     "data": {
      "text/plain": [
       "Text(0.5, 1.0, 'Numero istanze nel caso in cui Churn è No')"
      ]
     },
     "execution_count": 25,
     "metadata": {},
     "output_type": "execute_result"
    },
    {
     "data": {
      "image/png": "[encoded data removed]",
      "text/plain": [
       "<Figure size 432x288 with 1 Axes>"
      ]
     },
     "metadata": {
      "needs_background": "light"
     },
     "output_type": "display_data"
    },
    {
     "data": {
      "image/png": "[encoded data removed]",
      "text/plain": [
       "<Figure size 432x288 with 1 Axes>"
      ]
     },
     "metadata": {
      "needs_background": "light"
     },
     "output_type": "display_data"
    }
   ],
   "source": [
    "feature='MonthlyCharges'\n",
    "\n",
    "f1=plt.figure(1)\n",
    "yes=dataset[dataset.Churn=='Yes']\n",
    "plt.hist(np.asanyarray(yes[feature]));\n",
    "plt.title('Numero istanze nel caso in cui Churn è Si')\n",
    "#f1.show()\n",
    "\n",
    "f2=plt.figure(2)\n",
    "no=dataset[dataset.Churn=='No']\n",
    "plt.hist(np.asanyarray(no[feature]));\n",
    "plt.title('Numero istanze nel caso in cui Churn è No')\n",
    "#f2.show()"
   ]
  },
  {
   "cell_type": "code",
   "execution_count": 26,
   "id": "2d142a5e",
   "metadata": {},
   "outputs": [
    {
     "data": {
      "text/plain": [
       "Text(0.5, 1.0, 'Numero istanze nel caso in cui Churn è No')"
      ]
     },
     "execution_count": 26,
     "metadata": {},
     "output_type": "execute_result"
    },
    {
     "data": {
      "image/png": "[encoded data removed]",
      "text/plain": [
       "<Figure size 432x288 with 1 Axes>"
      ]
     },
     "metadata": {
      "needs_background": "light"
     },
     "output_type": "display_data"
    },
    {
     "data": {
      "image/png": "[encoded data removed]",
      "text/plain": [
       "<Figure size 432x288 with 1 Axes>"
      ]
     },
     "metadata": {
      "needs_background": "light"
     },
     "output_type": "display_data"
    }
   ],
   "source": [
    "feature='TotalCharges'\n",
    "\n",
    "f1=plt.figure(1)\n",
    "yes=dataset[dataset.Churn=='Yes']\n",
    "plt.hist(np.asanyarray(yes[feature]));\n",
    "plt.title('Numero istanze nel caso in cui Churn è Si')\n",
    "#f1.show()\n",
    "\n",
    "f2=plt.figure(2)\n",
    "no=dataset[dataset.Churn=='No']\n",
    "plt.hist(np.asanyarray(no[feature]));\n",
    "plt.title('Numero istanze nel caso in cui Churn è No')\n",
    "#f2.show()"
   ]
  },
  {
   "cell_type": "code",
   "execution_count": 27,
   "id": "51d4bb68",
   "metadata": {},
   "outputs": [],
   "source": [
    "#Tengo in considerazione solo le features con contenuto informativo alto. Seleziono le seguenti: \n",
    "#SeniorCitizen\n",
    "#Dependents\n",
    "#tenure\n",
    "#PhoneService\n",
    "#MultipleLines\n",
    "#InternetService\n",
    "#OnlineSecurity\n",
    "#OnlineBackup\n",
    "#DeviceProtection\n",
    "#TechSupport\n",
    "#StreamingTV\n",
    "#StreamingMovies\n",
    "#Contract\n",
    "#PaymentMethod"
   ]
  },
  {
   "cell_type": "code",
   "execution_count": null,
   "id": "609e69c7",
   "metadata": {},
   "outputs": [],
   "source": []
  },
  {
   "cell_type": "code",
   "execution_count": 28,
   "id": "c6242c8c",
   "metadata": {},
   "outputs": [
    {
     "data": {
      "text/html": [
       "<div>\n",
       "<style scoped>\n",
       "    .dataframe tbody tr th:only-of-type {\n",
       "        vertical-align: middle;\n",
       "    }\n",
       "\n",
       "    .dataframe tbody tr th {\n",
       "        vertical-align: top;\n",
       "    }\n",
       "\n",
       "    .dataframe thead th {\n",
       "        text-align: right;\n",
       "    }\n",
       "</style>\n",
       "<table border=\"1\" class=\"dataframe\">\n",
       "  <thead>\n",
       "    <tr style=\"text-align: right;\">\n",
       "      <th></th>\n",
       "      <th>Churn</th>\n",
       "      <th>customerID</th>\n",
       "      <th>gender</th>\n",
       "      <th>SeniorCitizen</th>\n",
       "      <th>Partner</th>\n",
       "      <th>Dependents</th>\n",
       "      <th>tenure</th>\n",
       "      <th>PhoneService</th>\n",
       "      <th>MultipleLines</th>\n",
       "      <th>InternetService</th>\n",
       "      <th>...</th>\n",
       "      <th>OnlineBackup</th>\n",
       "      <th>DeviceProtection</th>\n",
       "      <th>TechSupport</th>\n",
       "      <th>StreamingTV</th>\n",
       "      <th>StreamingMovies</th>\n",
       "      <th>Contract</th>\n",
       "      <th>PaperlessBilling</th>\n",
       "      <th>PaymentMethod</th>\n",
       "      <th>MonthlyCharges</th>\n",
       "      <th>TotalCharges</th>\n",
       "    </tr>\n",
       "  </thead>\n",
       "  <tbody>\n",
       "    <tr>\n",
       "      <th>0</th>\n",
       "      <td>0</td>\n",
       "      <td>1723</td>\n",
       "      <td>0</td>\n",
       "      <td>1</td>\n",
       "      <td>0</td>\n",
       "      <td>0</td>\n",
       "      <td>2</td>\n",
       "      <td>1</td>\n",
       "      <td>0</td>\n",
       "      <td>0</td>\n",
       "      <td>...</td>\n",
       "      <td>0</td>\n",
       "      <td>0</td>\n",
       "      <td>0</td>\n",
       "      <td>0</td>\n",
       "      <td>0</td>\n",
       "      <td>0</td>\n",
       "      <td>0</td>\n",
       "      <td>2</td>\n",
       "      <td>242</td>\n",
       "      <td>4064</td>\n",
       "    </tr>\n",
       "    <tr>\n",
       "      <th>1</th>\n",
       "      <td>0</td>\n",
       "      <td>321</td>\n",
       "      <td>0</td>\n",
       "      <td>0</td>\n",
       "      <td>1</td>\n",
       "      <td>1</td>\n",
       "      <td>64</td>\n",
       "      <td>1</td>\n",
       "      <td>2</td>\n",
       "      <td>1</td>\n",
       "      <td>...</td>\n",
       "      <td>0</td>\n",
       "      <td>0</td>\n",
       "      <td>2</td>\n",
       "      <td>0</td>\n",
       "      <td>0</td>\n",
       "      <td>0</td>\n",
       "      <td>1</td>\n",
       "      <td>0</td>\n",
       "      <td>917</td>\n",
       "      <td>2907</td>\n",
       "    </tr>\n",
       "    <tr>\n",
       "      <th>2</th>\n",
       "      <td>0</td>\n",
       "      <td>765</td>\n",
       "      <td>1</td>\n",
       "      <td>0</td>\n",
       "      <td>1</td>\n",
       "      <td>1</td>\n",
       "      <td>2</td>\n",
       "      <td>1</td>\n",
       "      <td>0</td>\n",
       "      <td>2</td>\n",
       "      <td>...</td>\n",
       "      <td>1</td>\n",
       "      <td>1</td>\n",
       "      <td>1</td>\n",
       "      <td>1</td>\n",
       "      <td>1</td>\n",
       "      <td>0</td>\n",
       "      <td>0</td>\n",
       "      <td>3</td>\n",
       "      <td>33</td>\n",
       "      <td>2210</td>\n",
       "    </tr>\n",
       "    <tr>\n",
       "      <th>3</th>\n",
       "      <td>0</td>\n",
       "      <td>3743</td>\n",
       "      <td>1</td>\n",
       "      <td>0</td>\n",
       "      <td>1</td>\n",
       "      <td>0</td>\n",
       "      <td>71</td>\n",
       "      <td>1</td>\n",
       "      <td>2</td>\n",
       "      <td>0</td>\n",
       "      <td>...</td>\n",
       "      <td>0</td>\n",
       "      <td>2</td>\n",
       "      <td>2</td>\n",
       "      <td>2</td>\n",
       "      <td>2</td>\n",
       "      <td>2</td>\n",
       "      <td>0</td>\n",
       "      <td>2</td>\n",
       "      <td>848</td>\n",
       "      <td>3244</td>\n",
       "    </tr>\n",
       "    <tr>\n",
       "      <th>4</th>\n",
       "      <td>0</td>\n",
       "      <td>2118</td>\n",
       "      <td>0</td>\n",
       "      <td>1</td>\n",
       "      <td>0</td>\n",
       "      <td>0</td>\n",
       "      <td>51</td>\n",
       "      <td>1</td>\n",
       "      <td>0</td>\n",
       "      <td>2</td>\n",
       "      <td>...</td>\n",
       "      <td>1</td>\n",
       "      <td>1</td>\n",
       "      <td>1</td>\n",
       "      <td>1</td>\n",
       "      <td>1</td>\n",
       "      <td>2</td>\n",
       "      <td>0</td>\n",
       "      <td>1</td>\n",
       "      <td>19</td>\n",
       "      <td>4235</td>\n",
       "    </tr>\n",
       "  </tbody>\n",
       "</table>\n",
       "<p>5 rows × 21 columns</p>\n",
       "</div>"
      ],
      "text/plain": [
       "   Churn  customerID  gender  SeniorCitizen  Partner  Dependents  tenure  \\\n",
       "0      0        1723       0              1        0           0       2   \n",
       "1      0         321       0              0        1           1      64   \n",
       "2      0         765       1              0        1           1       2   \n",
       "3      0        3743       1              0        1           0      71   \n",
       "4      0        2118       0              1        0           0      51   \n",
       "\n",
       "   PhoneService  MultipleLines  InternetService  ...  OnlineBackup  \\\n",
       "0             1              0                0  ...             0   \n",
       "1             1              2                1  ...             0   \n",
       "2             1              0                2  ...             1   \n",
       "3             1              2                0  ...             0   \n",
       "4             1              0                2  ...             1   \n",
       "\n",
       "   DeviceProtection  TechSupport  StreamingTV  StreamingMovies  Contract  \\\n",
       "0                 0            0            0                0         0   \n",
       "1                 0            2            0                0         0   \n",
       "2                 1            1            1                1         0   \n",
       "3                 2            2            2                2         2   \n",
       "4                 1            1            1                1         2   \n",
       "\n",
       "   PaperlessBilling  PaymentMethod  MonthlyCharges  TotalCharges  \n",
       "0                 0              2             242          4064  \n",
       "1                 1              0             917          2907  \n",
       "2                 0              3              33          2210  \n",
       "3                 0              2             848          3244  \n",
       "4                 0              1              19          4235  \n",
       "\n",
       "[5 rows x 21 columns]"
      ]
     },
     "execution_count": 28,
     "metadata": {},
     "output_type": "execute_result"
    }
   ],
   "source": [
    "from sklearn.model_selection import train_test_split\n",
    "from sklearn.preprocessing import LabelEncoder\n",
    "lbl = LabelEncoder()\n",
    "\n",
    "#Conversione dei valori testuali in interi:\n",
    "\n",
    "for col in dataset.columns:\n",
    "    dataset[col]=lbl.fit_transform(dataset[col])    \n",
    "\n",
    "dataset.head()"
   ]
  },
  {
   "cell_type": "code",
   "execution_count": 29,
   "id": "7a390600",
   "metadata": {},
   "outputs": [],
   "source": [
    "#Predispongo l'addestramento sull'80% dei dati\n",
    "\n",
    "X=(dataset[['SeniorCitizen','Dependents','tenure','PhoneService','MultipleLines','InternetService','OnlineSecurity','OnlineBackup','DeviceProtection','TechSupport','StreamingTV','StreamingMovies','Contract', 'PaymentMethod']])\n",
    "y=(dataset['Churn'])\n",
    "X_train, X_test, y_train, y_test = train_test_split(X, y, random_state=0)"
   ]
  },
  {
   "cell_type": "code",
   "execution_count": null,
   "id": "a2fcda5a",
   "metadata": {},
   "outputs": [],
   "source": []
  },
  {
   "cell_type": "code",
   "execution_count": 30,
   "id": "0d67144e",
   "metadata": {},
   "outputs": [
    {
     "data": {
      "text/plain": [
       "<matplotlib.collections.PathCollection at 0x7f090d92dfa0>"
      ]
     },
     "execution_count": 30,
     "metadata": {},
     "output_type": "execute_result"
    },
    {
     "data": {
      "image/png": "[encoded data removed]",
      "text/plain": [
       "<Figure size 432x288 with 1 Axes>"
      ]
     },
     "metadata": {
      "needs_background": "light"
     },
     "output_type": "display_data"
    }
   ],
   "source": [
    "#Clustering\n",
    "\n",
    "from sklearn.cluster import DBSCAN\n",
    "dbscan=DBSCAN(eps=0.5, min_samples=5)\n",
    "clusters = dbscan.fit_predict(X)\n",
    "plt.scatter(clusters, dataset['customerID'])"
   ]
  },
  {
   "cell_type": "code",
   "execution_count": 31,
   "id": "1569e2f0",
   "metadata": {},
   "outputs": [],
   "source": [
    "#importo algoritmo predizione\n",
    "\n",
    "from sklearn.neighbors import KNeighborsClassifier\n",
    "algo = KNeighborsClassifier(n_neighbors=40)"
   ]
  },
  {
   "cell_type": "code",
   "execution_count": 32,
   "id": "8010fc07",
   "metadata": {},
   "outputs": [
    {
     "data": {
      "text/plain": [
       "KNeighborsClassifier(n_neighbors=40)"
      ]
     },
     "execution_count": 32,
     "metadata": {},
     "output_type": "execute_result"
    }
   ],
   "source": [
    "#addestro\n",
    "\n",
    "algo.fit(X_train, y_train)"
   ]
  },
  {
   "cell_type": "code",
   "execution_count": 33,
   "id": "9fe56d18",
   "metadata": {},
   "outputs": [
    {
     "name": "stdout",
     "output_type": "stream",
     "text": [
      "[0 0 0 ... 0 0 0]\n"
     ]
    }
   ],
   "source": [
    "#predizione\n",
    "\n",
    "y_pred=algo.predict(X_test)\n",
    "print (y_pred)"
   ]
  },
  {
   "cell_type": "code",
   "execution_count": 34,
   "id": "f3407579",
   "metadata": {},
   "outputs": [
    {
     "data": {
      "text/plain": [
       "0.774622892635315"
      ]
     },
     "execution_count": 34,
     "metadata": {},
     "output_type": "execute_result"
    }
   ],
   "source": [
    "#valutazione accuracy della predizione\n",
    "\n",
    "np.mean(algo.score(X_test,y_test))"
   ]
  },
  {
   "cell_type": "code",
   "execution_count": null,
   "id": "039c4b61",
   "metadata": {},
   "outputs": [],
   "source": []
  },
  {
   "cell_type": "code",
   "execution_count": null,
   "id": "d91e75f4",
   "metadata": {},
   "outputs": [],
   "source": []
  }
 ],
 "metadata": {
  "kernelspec": {
   "display_name": "Python 3",
   "language": "python",
   "name": "python3"
  },
  "language_info": {
   "codemirror_mode": {
    "name": "ipython",
    "version": 3
   },
   "file_extension": ".py",
   "mimetype": "text/x-python",
   "name": "python",
   "nbconvert_exporter": "python",
   "pygments_lexer": "ipython3",
   "version": "3.9.5"
  }
 },
 "nbformat": 4,
 "nbformat_minor": 5
}
